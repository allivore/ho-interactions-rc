{
 "cells": [
  {
   "cell_type": "code",
   "execution_count": 1,
   "metadata": {},
   "outputs": [],
   "source": [
    "import pickle\n",
    "import numpy as np \n",
    "import matplotlib.pyplot as plt\n",
    "from sklearn.metrics import mean_squared_error"
   ]
  },
  {
   "cell_type": "code",
   "execution_count": 2,
   "metadata": {},
   "outputs": [],
   "source": [
    "seeds = np.arange(50)\n",
    "rmse_best_all = []\n",
    "filenames = np.arange(55, 463+51, 51)\n",
    "sizes = np.arange(51, 459+51, 51)"
   ]
  },
  {
   "cell_type": "code",
   "execution_count": 3,
   "metadata": {},
   "outputs": [],
   "source": [
    "rmse_all = []\n",
    "for seed in seeds:\n",
    "    with open(\n",
    "        \"Results/Evaluation_Data/fhn_d005-o3n-13n_18.04.2024/\" \\\n",
    "        f\"RNN-esn2_auto-RDIM_3-N_used_30000-SIZE_9-D_9-RADIUS_1.9-SIGMA_1-DL_10000-NL_0-IPL_20000-REG_0.0001-WID_{seed}/\" \\\n",
    "        \"results.pickle\",\n",
    "        \"rb\") as infile:\n",
    "        data = pickle.load(infile)\n",
    "    pred = data['predictions_all_TEST'][0, :, 0]\n",
    "    true = data['truths_all_TEST'][0, :, 0]\n",
    "    rmse = mean_squared_error(true, pred, squared=False)\n",
    "    rmse_all.append(rmse)\n",
    "rmse_all = np.array(rmse_all)\n",
    "rmse_best_all.append(np.min(rmse_all))"
   ]
  },
  {
   "cell_type": "code",
   "execution_count": 4,
   "metadata": {},
   "outputs": [],
   "source": [
    "for size, filename in zip(sizes, filenames):\n",
    "    rmse_all = []\n",
    "    for seed in seeds:\n",
    "        with open(\n",
    "            f\"Results/Evaluation_Data/fhn_d005-o3n-{filename}n_18.04.2024/\" \\\n",
    "            f\"RNN-esn2_auto-RDIM_3-N_used_30000-SIZE_{size}-D_10-RADIUS_1.9-SIGMA_1-DL_10000-NL_0-IPL_20000-REG_0.0001-WID_{seed}/\" \\\n",
    "            \"results.pickle\",\n",
    "            \"rb\") as infile:\n",
    "            data = pickle.load(infile)\n",
    "        pred = data['predictions_all_TEST'][0, :, 0]\n",
    "        true = data['truths_all_TEST'][0, :, 0]\n",
    "        rmse = mean_squared_error(true, pred, squared=False)\n",
    "        rmse_all.append(rmse)\n",
    "    rmse_all = np.array(rmse_all)\n",
    "    rmse_best_all.append(np.min(rmse_all))"
   ]
  },
  {
   "cell_type": "code",
   "execution_count": 5,
   "metadata": {},
   "outputs": [],
   "source": [
    "rmse_all = []\n",
    "for seed in seeds:\n",
    "    with open(\n",
    "        \"Results/Evaluation_Data/fhn_d005-o3n-505n_18.04.2024/\" \\\n",
    "        f\"RNN-esn2_auto-RDIM_3-N_used_30000-SIZE_501-D_10-RADIUS_1.9-SIGMA_1-DL_10000-NL_0-IPL_20000-REG_0.0001-WID_{seed}/\" \\\n",
    "        \"results.pickle\",\n",
    "        \"rb\") as infile:\n",
    "        data = pickle.load(infile)\n",
    "    pred = data['predictions_all_TEST'][0, :, 0]\n",
    "    true = data['truths_all_TEST'][0, :, 0]\n",
    "    rmse = mean_squared_error(true, pred, squared=False)\n",
    "    rmse_all.append(rmse)\n",
    "rmse_all = np.array(rmse_all)\n",
    "rmse_best_all.append(np.min(rmse_all))"
   ]
  },
  {
   "cell_type": "code",
   "execution_count": 6,
   "metadata": {},
   "outputs": [],
   "source": [
    "sizes = np.concatenate([[9], sizes, [501]])"
   ]
  },
  {
   "cell_type": "code",
   "execution_count": 7,
   "metadata": {},
   "outputs": [
    {
     "data": {
      "text/plain": [
       "[<matplotlib.lines.Line2D at 0x1f5dde97640>]"
      ]
     },
     "execution_count": 7,
     "metadata": {},
     "output_type": "execute_result"
    },
    {
     "data": {
      "image/png": "[encoded data removed]",
      "text/plain": [
       "<Figure size 640x480 with 1 Axes>"
      ]
     },
     "metadata": {},
     "output_type": "display_data"
    }
   ],
   "source": [
    "plt.plot(sizes, rmse_best_all)"
   ]
  }
 ],
 "metadata": {
  "kernelspec": {
   "display_name": "Python 3",
   "language": "python",
   "name": "python3"
  },
  "language_info": {
   "codemirror_mode": {
    "name": "ipython",
    "version": 3
   },
   "file_extension": ".py",
   "mimetype": "text/x-python",
   "name": "python",
   "nbconvert_exporter": "python",
   "pygments_lexer": "ipython3",
   "version": "3.10.7"
  }
 },
 "nbformat": 4,
 "nbformat_minor": 2
}
